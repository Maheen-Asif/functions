{
 "cells": [
  {
   "cell_type": "markdown",
   "id": "3cddad5c",
   "metadata": {},
   "source": [
    "# Functions in Python: A Primer for Business Data Analysts"
   ]
  },
  {
   "cell_type": "markdown",
   "id": "9be8489d",
   "metadata": {},
   "source": [
    "## Introduction\n",
    "### Functions are fundamental building blocks in Python programming. They allow you to encapsulate a specific task or calculation into a reusable block of code. This promotes modularity, reusability, and readability in your scripts.\n",
    "\n",
    "## Defining a Function\n",
    "### To define a function in Python, you use the def keyword followed by the function name and parentheses. Inside the parentheses, you can define parameters, which are variables that accept input values. The function's body is indented and contains the code that will be executed when the function is called."
   ]
  },
  {
   "cell_type": "code",
   "execution_count": null,
   "id": "4040b2ae",
   "metadata": {},
   "outputs": [],
   "source": [
    "def greet(name):\n",
    "  print(\"Hello, \" + name + \"!\")"
   ]
  },
  {
   "cell_type": "markdown",
   "id": "a8a04000",
   "metadata": {},
   "source": [
    "## Calling a Function\n",
    "### To execute a function, you simply call it by its name, followed by any necessary arguments:"
   ]
  },
  {
   "cell_type": "code",
   "execution_count": null,
   "id": "2d499e44",
   "metadata": {},
   "outputs": [],
   "source": [
    "greet(\"Imran\")  # Output: Hello, Imran!"
   ]
  },
  {
   "cell_type": "code",
   "execution_count": null,
   "id": "1219cd90",
   "metadata": {},
   "outputs": [],
   "source": [
    "greet(\"Imran\")  # Output: Hello, Imran!"
   ]
  },
  {
   "cell_type": "markdown",
   "id": "6e1eb5dc",
   "metadata": {},
   "source": [
    "## Function Parameters and Arguments\n",
    "### Parameters: These are the variables defined within the function's parentheses. They act as placeholders for values that will be passed to the function when it's called.\n",
    "### Arguments: These are the actual values passed to the function when it's called. They are assigned to the corresponding parameters."
   ]
  },
  {
   "cell_type": "code",
   "execution_count": null,
   "id": "03828542",
   "metadata": {},
   "outputs": [],
   "source": [
    "def calculate_area(length, width):\n",
    "  area = length * width\n",
    "  return area\n",
    "\n",
    "result = calculate_area(5, 3)\n",
    "print(result)  # Output: 15"
   ]
  },
  {
   "cell_type": "markdown",
   "id": "5968901e",
   "metadata": {},
   "source": [
    "## Return Statement\n",
    "### The return statement is used to specify the value that a function should return. Once the return statement is executed, the function terminates and the specified value is returned to the caller."
   ]
  },
  {
   "cell_type": "markdown",
   "id": "29da4f9d",
   "metadata": {},
   "source": [
    "## Practice Exercises\n",
    "\n",
    "### Simple Function:\n",
    "#### Create a function named greet_with_time that takes a name as input and prints a greeting message along with the current time.\n",
    "### Function with Multiple Parameters:\n",
    "#### Write a function called calculate_average that takes three numbers as input and returns their average.\n",
    "### Default Argument:\n",
    "#### Define a function calculate_discount that takes a price and a discount percentage as input. Set a default discount percentage of 10%.\n",
    "### Keyword Arguments:\n",
    "#### Create a function print_info that takes a name, age, and city as keyword arguments.\n",
    "### Variable-Length Arguments:\n",
    "#### Write a function find_max that can take any number of arguments and returns the maximum value.\n",
    "### Recursive Function:\n",
    "#### Implement a recursive function to calculate the factorial of a number.\n",
    "### Function as an Argument:\n",
    "#### Define a function apply_function that takes a function and a list of numbers as input. Apply the function to each number in the list and return a new list with the results.\n",
    "### Lambda Functions:\n",
    "#### Create a lambda function to square a number.\n",
    "### Higher-Order Functions:\n",
    "#### Write a function apply_operation that takes a function and a list of numbers. Apply the function to each number and return a new list.\n",
    "### Function Decorators:\n",
    "#### Implement a decorator to measure the execution time of a function."
   ]
  },
  {
   "cell_type": "code",
   "execution_count": 7,
   "id": "49ebbbe0",
   "metadata": {},
   "outputs": [
    {
     "name": "stdout",
     "output_type": "stream",
     "text": [
      "Hello, Alice! The current time is 2024-12-18 22:38:05.\n"
     ]
    }
   ],
   "source": [
    "#Simple Function:\n",
    "from datetime import datetime\n",
    "\n",
    "def greet_with_time(name):\n",
    "   \n",
    "    current_time = datetime.now().strftime(\"%Y-%m-%d %H:%M:%S\")\n",
    "    print(f\"Hello, {name}! The current time is {current_time}.\")\n",
    "\n",
    "greet_with_time(\"Alice\")\n"
   ]
  },
  {
   "cell_type": "code",
   "execution_count": 9,
   "id": "a6ceffdc-880e-4d7f-94b7-c49d7a12c43d",
   "metadata": {},
   "outputs": [
    {
     "name": "stdout",
     "output_type": "stream",
     "text": [
      "The average is: 20.0\n"
     ]
    }
   ],
   "source": [
    "#Function with Multiple Parameters:\n",
    "def calculate_average(num1, num2, num3):\n",
    "   \n",
    "    return (num1 + num2 + num3) / 3\n",
    "\n",
    "# Example usage\n",
    "average = calculate_average(10, 20, 30)\n",
    "print(f\"The average is: {average}\")\n"
   ]
  },
  {
   "cell_type": "code",
   "execution_count": 16,
   "id": "8211903e-73ed-4b4b-9da7-5688dc0484c4",
   "metadata": {},
   "outputs": [
    {
     "name": "stdout",
     "output_type": "stream",
     "text": [
      "The price after a 10% discount is: 90.0\n",
      "The price after a 20% discount is: 80.0\n"
     ]
    }
   ],
   "source": [
    "#Default Argument:\n",
    "def calculate_discount(price, discount_percentage=10):\n",
    "   \n",
    "    discounted_price = price - (price * discount_percentage / 100)\n",
    "    return discounted_price\n",
    "\n",
    "# Example usage\n",
    "original_price = 100\n",
    "discounted_price = calculate_discount(original_price)\n",
    "print(f\"The price after a 10% discount is: {discounted_price}\")\n",
    "\n",
    "custom_discounted_price = calculate_discount(original_price, 20)\n",
    "print(f\"The price after a 20% discount is: {custom_discounted_price}\")\n"
   ]
  },
  {
   "cell_type": "code",
   "execution_count": 18,
   "id": "552eb645-4390-42c7-9764-cf12093fecf1",
   "metadata": {},
   "outputs": [
    {
     "name": "stdout",
     "output_type": "stream",
     "text": [
      "Name: Alice\n",
      "Age: 25\n",
      "City: New York\n"
     ]
    }
   ],
   "source": [
    "#Keyword Arguments:\n",
    "def print_info(*, name, age, city):\n",
    "   \n",
    "    print(f\"Name: {name}\")\n",
    "    print(f\"Age: {age}\")\n",
    "    print(f\"City: {city}\")\n",
    "\n",
    "# Example usage\n",
    "print_info(name=\"Alice\", age=25, city=\"New York\")\n"
   ]
  },
  {
   "cell_type": "code",
   "execution_count": 20,
   "id": "c4174ca4-db0d-4a43-8d46-ac957234ce72",
   "metadata": {},
   "outputs": [
    {
     "name": "stdout",
     "output_type": "stream",
     "text": [
      "The maximum value is: 9\n"
     ]
    }
   ],
   "source": [
    "#Variable-Length Arguments:\n",
    "def find_max(*args):\n",
    "   \n",
    "    if not args:\n",
    "        return None  # Return None if no arguments are provided\n",
    "    return max(args)\n",
    "\n",
    "# Example usage\n",
    "max_value = find_max(3, 5, 1, 9, 2)\n",
    "print(f\"The maximum value is: {max_value}\")\n"
   ]
  },
  {
   "cell_type": "code",
   "execution_count": 24,
   "id": "951155c6-8981-40ac-81b1-e15c60c8a9cc",
   "metadata": {},
   "outputs": [
    {
     "name": "stdout",
     "output_type": "stream",
     "text": [
      "The factorial of 5 is: 120\n"
     ]
    }
   ],
   "source": [
    "#Recursive Function:\n",
    "def factorial(n):\n",
    "\n",
    "    if n == 0 or n == 1:\n",
    "        return 1\n",
    "    \n",
    "    return n * factorial(n - 1)\n",
    "\n",
    "# Example usage\n",
    "result = factorial(5)\n",
    "print(f\"The factorial of 5 is: {result}\")\n"
   ]
  },
  {
   "cell_type": "code",
   "execution_count": 26,
   "id": "f75471c4-98c7-4156-bfa0-573b23942269",
   "metadata": {},
   "outputs": [
    {
     "name": "stdout",
     "output_type": "stream",
     "text": [
      "Squared numbers: [1, 4, 9, 16, 25]\n"
     ]
    }
   ],
   "source": [
    "#Function as an Argument:\n",
    "def apply_function(func, numbers):\n",
    "  \n",
    "    return [func(num) for num in numbers]\n",
    "\n",
    "# Example usage\n",
    "numbers = [1, 2, 3, 4, 5]\n",
    "squared_numbers = apply_function(lambda x: x**2, numbers)\n",
    "print(f\"Squared numbers: {squared_numbers}\")\n"
   ]
  },
  {
   "cell_type": "code",
   "execution_count": 28,
   "id": "cdb495cf-2e84-44a8-8353-43ec5825fc0e",
   "metadata": {},
   "outputs": [
    {
     "name": "stdout",
     "output_type": "stream",
     "text": [
      "The square of 5 is: 25\n"
     ]
    }
   ],
   "source": [
    "#Lambda Functions:\n",
    "square = lambda x: x ** 2\n",
    "\n",
    "result = square(5)\n",
    "print(f\"The square of 5 is: {result}\")\n"
   ]
  },
  {
   "cell_type": "code",
   "execution_count": 30,
   "id": "5032ae6a-2318-41bd-937e-2f695cba2544",
   "metadata": {},
   "outputs": [
    {
     "name": "stdout",
     "output_type": "stream",
     "text": [
      "Doubled numbers: [2, 4, 6, 8, 10]\n"
     ]
    }
   ],
   "source": [
    "#Higher-Order Functions:\n",
    "def apply_operation(func, numbers):\n",
    "  \n",
    "    return [func(num) for num in numbers]\n",
    "\n",
    "# Example usage\n",
    "numbers = [1, 2, 3, 4, 5]\n",
    "doubled_numbers = apply_operation(lambda x: x * 2, numbers)\n",
    "print(f\"Doubled numbers: {doubled_numbers}\")\n"
   ]
  },
  {
   "cell_type": "code",
   "execution_count": null,
   "id": "a889cb19-cf04-4a24-8cbb-25bb9489da01",
   "metadata": {},
   "outputs": [],
   "source": [
    "#Function Decorators:\n"
   ]
  }
 ],
 "metadata": {
  "kernelspec": {
   "display_name": "Python 3 (ipykernel)",
   "language": "python",
   "name": "python3"
  },
  "language_info": {
   "codemirror_mode": {
    "name": "ipython",
    "version": 3
   },
   "file_extension": ".py",
   "mimetype": "text/x-python",
   "name": "python",
   "nbconvert_exporter": "python",
   "pygments_lexer": "ipython3",
   "version": "3.12.4"
  }
 },
 "nbformat": 4,
 "nbformat_minor": 5
}
